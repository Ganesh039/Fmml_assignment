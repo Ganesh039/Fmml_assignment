{
  "nbformat": 4,
  "nbformat_minor": 0,
  "metadata": {
    "colab": {
      "provenance": [],
      "include_colab_link": true
    },
    "kernelspec": {
      "name": "python3",
      "display_name": "Python 3"
    },
    "language_info": {
      "name": "python"
    }
  },
  "cells": [
    {
      "cell_type": "markdown",
      "metadata": {
        "id": "view-in-github",
        "colab_type": "text"
      },
      "source": [
        "<a href=\"https://colab.research.google.com/github/Ganesh039/Fmml_assignment/blob/main/testpy.ipynb\" target=\"_parent\"><img src=\"https://colab.research.google.com/assets/colab-badge.svg\" alt=\"Open In Colab\"/></a>"
      ]
    },
    {
      "cell_type": "code",
      "execution_count": 1,
      "metadata": {
        "colab": {
          "base_uri": "https://localhost:8080/"
        },
        "id": "vaGNpKIVs9wb",
        "outputId": "bed2305e-9c73-4f87-b5a1-74991ae36bbe"
      },
      "outputs": [
        {
          "output_type": "stream",
          "name": "stdout",
          "text": [
            "Twinkle, twinkle, little star, \n",
            "\tHow I wonder what you are! \n",
            "\t\tUp above the world so high, \n",
            "\t\tLike a diamond in the sky. \n",
            "Twinkle, twinkle, little star,\n",
            "\tHow I wonder what you are\n"
          ]
        }
      ],
      "source": [
        "#1.\n",
        "print(\"Twinkle, twinkle, little star, \\n\\tHow I wonder what you are! \\n\\t\\tUp above the world so high, \\n\\t\\tLike a diamond in the sky. \\nTwinkle, twinkle, little star,\\n\\tHow I wonder what you are\")"
      ]
    },
    {
      "cell_type": "code",
      "source": [
        "#2.\n",
        "!python --version"
      ],
      "metadata": {
        "colab": {
          "base_uri": "https://localhost:8080/"
        },
        "id": "OIOBy48Fs_1_",
        "outputId": "324bcf8c-132b-48d9-bf7c-04e11748a48f"
      },
      "execution_count": 2,
      "outputs": [
        {
          "output_type": "stream",
          "name": "stdout",
          "text": [
            "Python 3.10.12\n"
          ]
        }
      ]
    },
    {
      "cell_type": "code",
      "source": [
        "#3.\n",
        "from datetime import datetime\n",
        "now=datetime.now()\n",
        "print(now)"
      ],
      "metadata": {
        "colab": {
          "base_uri": "https://localhost:8080/"
        },
        "id": "_rnFF0U0tBSS",
        "outputId": "e4ef9065-1d22-4dfb-ad36-d67754936441"
      },
      "execution_count": 3,
      "outputs": [
        {
          "output_type": "stream",
          "name": "stdout",
          "text": [
            "2023-10-02 16:14:37.665747\n"
          ]
        }
      ]
    },
    {
      "cell_type": "code",
      "source": [
        "#5.\n",
        "first_name=input(\"First name:\")\n",
        "last_name=input(\"Last name:\")\n",
        "print(last_name+\" \"+first_name)"
      ],
      "metadata": {
        "id": "pY9gWLIEtCuV",
        "colab": {
          "base_uri": "https://localhost:8080/"
        },
        "outputId": "bcc4954b-71b3-47ea-9c71-064fd59c60ab"
      },
      "execution_count": 4,
      "outputs": [
        {
          "output_type": "stream",
          "name": "stdout",
          "text": [
            "First name:hi\n",
            "Last name:hello\n",
            "hello hi\n"
          ]
        }
      ]
    },
    {
      "cell_type": "code",
      "source": [
        "#6.\n",
        "a='3','5','7','23'\n",
        "print(list(a))\n",
        "print(tuple(a))"
      ],
      "metadata": {
        "id": "xLHm4EUCtEXV",
        "colab": {
          "base_uri": "https://localhost:8080/"
        },
        "outputId": "18ea8e20-bd8c-49e9-a974-ee937cc43bb9"
      },
      "execution_count": 5,
      "outputs": [
        {
          "output_type": "stream",
          "name": "stdout",
          "text": [
            "['3', '5', '7', '23']\n",
            "('3', '5', '7', '23')\n"
          ]
        }
      ]
    }
  ]
}