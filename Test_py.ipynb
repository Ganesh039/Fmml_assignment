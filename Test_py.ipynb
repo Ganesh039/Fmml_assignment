{
  "nbformat": 4,
  "nbformat_minor": 0,
  "metadata": {
    "colab": {
      "provenance": [],
      "include_colab_link": true
    },
    "kernelspec": {
      "name": "python3",
      "display_name": "Python 3"
    },
    "language_info": {
      "name": "python"
    }
  },
  "cells": [
    {
      "cell_type": "markdown",
      "metadata": {
        "id": "view-in-github",
        "colab_type": "text"
      },
      "source": [
        "<a href=\"https://colab.research.google.com/github/Ganesh039/Fmml_assignment/blob/main/Test_py.ipynb\" target=\"_parent\"><img src=\"https://colab.research.google.com/assets/colab-badge.svg\" alt=\"Open In Colab\"/></a>"
      ]
    },
    {
      "cell_type": "code",
      "execution_count": 1,
      "metadata": {
        "colab": {
          "base_uri": "https://localhost:8080/"
        },
        "id": "vaGNpKIVs9wb",
        "outputId": "867e56c4-61da-4009-b030-07f23eeafca5"
      },
      "outputs": [
        {
          "output_type": "stream",
          "name": "stdout",
          "text": [
            "Twinkle, twinkle, little star, \n",
            "\tHow I wonder what you are! \n",
            "\t\tUp above the world so high, \n",
            "\t\tLike a diamond in the sky. \n",
            "Twinkle, twinkle, little star,\n",
            "\tHow I wonder what you are\n"
          ]
        }
      ],
      "source": [
        "#1.\n",
        "print(\"Twinkle, twinkle, little star, \\n\\tHow I wonder what you are! \\n\\t\\tUp above the world so high, \\n\\t\\tLike a diamond in the sky. \\nTwinkle, twinkle, little star,\\n\\tHow I wonder what you are\")"
      ]
    },
    {
      "cell_type": "code",
      "source": [
        "#2.\n",
        "!python --version"
      ],
      "metadata": {
        "colab": {
          "base_uri": "https://localhost:8080/"
        },
        "id": "OIOBy48Fs_1_",
        "outputId": "c941be18-0589-42a6-c138-23ca4caa6d11"
      },
      "execution_count": 2,
      "outputs": [
        {
          "output_type": "stream",
          "name": "stdout",
          "text": [
            "Python 3.10.12\n"
          ]
        }
      ]
    },
    {
      "cell_type": "code",
      "source": [
        "#3.\n",
        "from datetime import datetime\n",
        "now=datetime.now()\n",
        "print(now)"
      ],
      "metadata": {
        "colab": {
          "base_uri": "https://localhost:8080/"
        },
        "id": "_rnFF0U0tBSS",
        "outputId": "51542e67-74ff-43d6-e609-2cfcbb89d571"
      },
      "execution_count": 3,
      "outputs": [
        {
          "output_type": "stream",
          "name": "stdout",
          "text": [
            "2023-10-02 16:24:10.448966\n"
          ]
        }
      ]
    },
    {
      "cell_type": "code",
      "source": [
        "#5.\n",
        "first_name=input(\"First name:\")\n",
        "last_name=input(\"Last name:\")\n",
        "print(last_name+\" \"+first_name)"
      ],
      "metadata": {
        "id": "pY9gWLIEtCuV",
        "colab": {
          "base_uri": "https://localhost:8080/"
        },
        "outputId": "d55ff477-0a4a-41bd-bc42-7cd32cfb0ff6"
      },
      "execution_count": 4,
      "outputs": [
        {
          "output_type": "stream",
          "name": "stdout",
          "text": [
            "First name:hi\n",
            "Last name:hero\n",
            "hero hi\n"
          ]
        }
      ]
    },
    {
      "cell_type": "code",
      "source": [
        "#6.\n",
        "a='2','4','9','7'\n",
        "print(list(a))\n",
        "print(tuple(a))"
      ],
      "metadata": {
        "id": "xLHm4EUCtEXV",
        "colab": {
          "base_uri": "https://localhost:8080/"
        },
        "outputId": "2b2472af-0bf5-4d9c-aa27-af5260c6a2f7"
      },
      "execution_count": 6,
      "outputs": [
        {
          "output_type": "stream",
          "name": "stdout",
          "text": [
            "['2', '4', '9', '7']\n",
            "('2', '4', '9', '7')\n"
          ]
        }
      ]
    }
  ]
}